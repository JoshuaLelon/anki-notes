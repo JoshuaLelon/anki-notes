{
 "cells": [
  {
   "cell_type": "code",
   "execution_count": 2,
   "metadata": {},
   "outputs": [
    {
     "name": "stderr",
     "output_type": "stream",
     "text": [
      "To use data.metrics please install scikit-learn. See https://scikit-learn.org/stable/index.html\n"
     ]
    }
   ],
   "source": [
    "%load_ext autoreload\n",
    "%autoreload 2\n",
    "\n",
    "from main import train_bert, evaluate_bert\n",
    "\n",
    "# train(model, dataset, gpu, freeze_base, max_len, batch_size, learning_rate, print_per_n_lines, max_epochs)\n",
    "# evaluate(model, dataset, gpu)"
   ]
  },
  {
   "cell_type": "code",
   "execution_count": 15,
   "metadata": {},
   "outputs": [
    {
     "name": "stdout",
     "output_type": "stream",
     "text": [
      "Evaluating BERT on the twitter dataset using the cpu.\n",
      "dataset path: /Users/jm/anki-notes/cs7313/proj/datasets/val_twitter.csv\n",
      "Accuracy: \n",
      "tensor(0.1945)\n",
      "Avg loss: \n",
      "0.8645793732830309\n",
      "Done in 385.2910301685333 seconds\n"
     ]
    }
   ],
   "source": [
    "evaluate_bert(\"twitter\")"
   ]
  },
  {
   "cell_type": "code",
   "execution_count": 16,
   "metadata": {},
   "outputs": [
    {
     "name": "stdout",
     "output_type": "stream",
     "text": [
      "Evaluating BERT on the imdb dataset using the cpu.\n",
      "dataset path: /Users/jm/anki-notes/cs7313/proj/datasets/val_imdb.csv\n",
      "Accuracy: \n",
      "tensor(0.4834)\n",
      "Avg loss: \n",
      "0.7042054806053638\n",
      "Done in 484.20227313041687 seconds\n"
     ]
    }
   ],
   "source": [
    "evaluate_bert(\"imdb\")"
   ]
  },
  {
   "cell_type": "code",
   "execution_count": 17,
   "metadata": {},
   "outputs": [
    {
     "name": "stdout",
     "output_type": "stream",
     "text": [
      "Evaluating BERT on the amazon dataset using the cpu.\n",
      "dataset path: /Users/jm/anki-notes/cs7313/proj/datasets/val_amazon.csv\n",
      "Accuracy: \n",
      "tensor(0.4862)\n",
      "Avg loss: \n",
      "0.6989958261777601\n",
      "Done in 21215.145192861557 seconds\n"
     ]
    }
   ],
   "source": [
    "evaluate_bert(\"amazon\")"
   ]
  },
  {
   "cell_type": "code",
   "execution_count": null,
   "metadata": {},
   "outputs": [],
   "source": []
  }
 ],
 "metadata": {
  "kernelspec": {
   "display_name": "ml class",
   "language": "python",
   "name": "machine_learning"
  },
  "language_info": {
   "codemirror_mode": {
    "name": "ipython",
    "version": 3
   },
   "file_extension": ".py",
   "mimetype": "text/x-python",
   "name": "python",
   "nbconvert_exporter": "python",
   "pygments_lexer": "ipython3",
   "version": "3.6.9"
  }
 },
 "nbformat": 4,
 "nbformat_minor": 2
}
