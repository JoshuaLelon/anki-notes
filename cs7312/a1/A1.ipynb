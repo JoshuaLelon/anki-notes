{
 "cells": [
  {
   "cell_type": "code",
   "execution_count": 2,
   "metadata": {},
   "outputs": [],
   "source": [
    "import pandas as pd\n",
    "import numpy as np\n",
    "import sklearn as sk\n",
    "import matplotlib.pyplot as plt\n",
    "from os import listdir\n",
    "from os.path import isfile, join\n",
    "from sklearn.model_selection import StratifiedKFold\n",
    "from sklearn.metrics import classification_report, confusion_matrix, accuracy_score\n",
    "from sklearn.tree import DecisionTreeClassifier, ExtraTreeClassifier\n",
    "\n",
    "%matplotlib inline"
   ]
  },
  {
   "cell_type": "code",
   "execution_count": 3,
   "metadata": {},
   "outputs": [
    {
     "data": {
      "text/plain": [
       "['agaricus-lepiota.data.txt',\n",
       " 'primary-tumor.data.txt',\n",
       " 'hayes-roth.data.txt',\n",
       " 'monks-2.test.txt',\n",
       " 'nursery.data.txt',\n",
       " 'lymphography.data.txt',\n",
       " 'soybean-large.data.txt',\n",
       " 'car.data.txt',\n",
       " 'SPECT.test.txt',\n",
       " 'adult+stretch.data.txt',\n",
       " 'balance-scale.data.txt']"
      ]
     },
     "execution_count": 3,
     "metadata": {},
     "output_type": "execute_result"
    }
   ],
   "source": [
    "DATASET_PATH = \"datasets/\"\n",
    "datasets = [f for f in listdir(DATASET_PATH) if isfile(join(DATASET_PATH, f)) and f != '.DS_Store']\n",
    "datasets"
   ]
  },
  {
   "cell_type": "code",
   "execution_count": 4,
   "metadata": {},
   "outputs": [],
   "source": [
    "def get_info_for_data(dataset_name, data_dict_list, n_splits=10):\n",
    "    data_dict = {}\n",
    "    \n",
    "    data = pd.read_csv(DATASET_PATH + dataset_name, header = None)\n",
    "    data = data.replace('?', np.NaN)\n",
    "    data = data.dropna(axis=1)\n",
    "    data = data.apply(lambda x: pd.factorize(x)[0])\n",
    "\n",
    "    data_dict = {\"name\": dataset_name, \"num_instances\": data.shape[0], \"num_attributes\": data.shape[1], \"num_classes\": sum(data.nunique())}\n",
    "    \n",
    "    print()\n",
    "    print(len(data_dict_list))\n",
    "    print(dataset_name)\n",
    "    print(data.shape)\n",
    "    print()\n",
    "    # print(data.head())\n",
    "    # print()\n",
    "\n",
    "    # number of attributes, Random average height, and Random average accuracy\n",
    "    \n",
    "    y_col = 0\n",
    "    X = data.drop(y_col, 1)\n",
    "    y = data[y_col]\n",
    "    skf = StratifiedKFold(n_splits=n_splits)\n",
    "    accuracies = []\n",
    "    tree_depths = []\n",
    "    accuracies2 = []\n",
    "    tree_depths2 = []\n",
    "    data_split = skf.split(X, y)\n",
    "    # try:\n",
    "    for train, test in data_split:\n",
    "\n",
    "        # C4.5 Tree:\n",
    "        model = DecisionTreeClassifier(criterion='entropy')\n",
    "        model.fit(X.loc[train] , y.loc[train])\n",
    "        y_predict = model.predict(X.loc[test])\n",
    "        accuracy = accuracy_score(y.loc[test], y_predict)\n",
    "        accuracies.append(accuracy)\n",
    "        tree_depth = dectree_max_depth(model.tree_)\n",
    "        tree_depths.append(tree_depth)\n",
    "\n",
    "        # Random Tree:\n",
    "        model2 = ExtraTreeClassifier(criterion='entropy', max_features=1)\n",
    "        model2.fit(X.loc[train] , y.loc[train])\n",
    "        y_predict = model2.predict(X.loc[test])\n",
    "        accuracy = accuracy_score(y.loc[test], y_predict)\n",
    "        accuracies2.append(accuracy)\n",
    "        tree_depth = dectree_max_depth(model2.tree_)\n",
    "        tree_depths2.append(tree_depth)\n",
    "    data_dict[\"C4.5 Avg Accuracy\"] = sum(accuracies) / len(accuracies)\n",
    "    data_dict[\"C4.5 Avg Height\"] = sum(tree_depths) / len(tree_depths)\n",
    "    data_dict[\"Random Avg Accuracy\"] = sum(accuracies2) / len(accuracies2)\n",
    "    data_dict[\"Random Avg Height\"] = sum(tree_depths2) / len(tree_depths2)\n",
    "    data_dict_list.append(data_dict)\n",
    "    print(data_dict)\n",
    "    print()\n",
    "    # except:\n",
    "    #    print(\"Exception!\")\n",
    "    "
   ]
  },
  {
   "cell_type": "code",
   "execution_count": 5,
   "metadata": {},
   "outputs": [],
   "source": [
    "def dectree_max_depth(tree):\n",
    "    n_nodes = tree.node_count\n",
    "    children_left = tree.children_left\n",
    "    children_right = tree.children_right\n",
    "\n",
    "    def walk(node_id):\n",
    "        if (children_left[node_id] != children_right[node_id]):\n",
    "            left_max = 1 + walk(children_left[node_id])\n",
    "            right_max = 1 + walk(children_right[node_id])\n",
    "            return max(left_max, right_max)\n",
    "        else: # leaf\n",
    "            return 1\n",
    "\n",
    "    root_node_id = 0\n",
    "    return walk(root_node_id)\n",
    "# Use: t.tree_\n",
    "# From: https://stackoverflow.com/questions/26602369/how-to-find-out-the-size-of-a-sklearn-decision-tree-in-python"
   ]
  },
  {
   "cell_type": "code",
   "execution_count": 6,
   "metadata": {},
   "outputs": [
    {
     "name": "stdout",
     "output_type": "stream",
     "text": [
      "\n",
      "0\n",
      "agaricus-lepiota.data.txt\n",
      "(8124, 22)\n",
      "\n",
      "{'name': 'agaricus-lepiota.data.txt', 'num_instances': 8124, 'num_attributes': 22, 'num_classes': 114, 'C4.5 Avg Accuracy': 0.9685116851168513, 'C4.5 Avg Height': 7.7, 'Random Avg Accuracy': 0.9611152313742618, 'Random Avg Height': 19.0}\n",
      "\n",
      "\n",
      "1\n",
      "primary-tumor.data.txt\n",
      "(339, 13)\n",
      "\n"
     ]
    },
    {
     "name": "stderr",
     "output_type": "stream",
     "text": [
      "/Users/jm/anaconda3/envs/dm/lib/python3.7/site-packages/sklearn/model_selection/_split.py:652: Warning: The least populated class in y has only 1 members, which is too few. The minimum number of members in any class cannot be less than n_splits=10.\n",
      "  % (min_groups, self.n_splits)), Warning)\n"
     ]
    },
    {
     "name": "stdout",
     "output_type": "stream",
     "text": [
      "{'name': 'primary-tumor.data.txt', 'num_instances': 339, 'num_attributes': 13, 'num_classes': 46, 'C4.5 Avg Accuracy': 0.3117351924041314, 'C4.5 Avg Height': 12.2, 'Random Avg Accuracy': 0.30718617458854725, 'Random Avg Height': 13.5}\n",
      "\n",
      "\n",
      "2\n",
      "hayes-roth.data.txt\n",
      "(133, 5)\n",
      "\n",
      "{'name': 'hayes-roth.data.txt', 'num_instances': 133, 'num_attributes': 5, 'num_classes': 19, 'C4.5 Avg Accuracy': 0.1930769230769231, 'C4.5 Avg Height': 10.5, 'Random Avg Accuracy': 0.18205128205128204, 'Random Avg Height': 9.8}\n",
      "\n",
      "\n",
      "3\n",
      "monks-2.test.txt\n",
      "(433, 7)\n",
      "\n",
      "{'name': 'monks-2.test.txt', 'num_instances': 433, 'num_attributes': 7, 'num_classes': 23, 'C4.5 Avg Accuracy': 0.41506342494714576, 'C4.5 Avg Height': 10.3, 'Random Avg Accuracy': 0.3207188160676533, 'Random Avg Height': 12.4}\n",
      "\n",
      "\n",
      "4\n",
      "nursery.data.txt\n",
      "(12960, 9)\n",
      "\n",
      "{'name': 'nursery.data.txt', 'num_instances': 12960, 'num_attributes': 9, 'num_classes': 32, 'C4.5 Avg Accuracy': 0.4398148148148147, 'C4.5 Avg Height': 18.6, 'Random Avg Accuracy': 0.3911265432098766, 'Random Avg Height': 18.9}\n",
      "\n",
      "\n",
      "5\n",
      "lymphography.data.txt\n",
      "(148, 19)\n",
      "\n",
      "{'name': 'lymphography.data.txt', 'num_instances': 148, 'num_attributes': 19, 'num_classes': 63, 'C4.5 Avg Accuracy': 0.771765873015873, 'C4.5 Avg Height': 8.8, 'Random Avg Accuracy': 0.6281746031746033, 'Random Avg Height': 13.8}\n",
      "\n",
      "\n",
      "6\n",
      "soybean-large.data.txt\n",
      "(307, 2)\n",
      "\n"
     ]
    },
    {
     "name": "stderr",
     "output_type": "stream",
     "text": [
      "/Users/jm/anaconda3/envs/dm/lib/python3.7/site-packages/sklearn/model_selection/_split.py:652: Warning: The least populated class in y has only 2 members, which is too few. The minimum number of members in any class cannot be less than n_splits=10.\n",
      "  % (min_groups, self.n_splits)), Warning)\n",
      "/Users/jm/anaconda3/envs/dm/lib/python3.7/site-packages/sklearn/model_selection/_split.py:652: Warning: The least populated class in y has only 1 members, which is too few. The minimum number of members in any class cannot be less than n_splits=10.\n",
      "  % (min_groups, self.n_splits)), Warning)\n"
     ]
    },
    {
     "name": "stdout",
     "output_type": "stream",
     "text": [
      "{'name': 'soybean-large.data.txt', 'num_instances': 307, 'num_attributes': 2, 'num_classes': 21, 'C4.5 Avg Accuracy': 0.1632500969090235, 'C4.5 Avg Height': 2.0, 'Random Avg Accuracy': 0.1632500969090235, 'Random Avg Height': 2.0}\n",
      "\n",
      "\n",
      "7\n",
      "car.data.txt\n",
      "(1728, 7)\n",
      "\n",
      "{'name': 'car.data.txt', 'num_instances': 1728, 'num_attributes': 7, 'num_classes': 25, 'C4.5 Avg Accuracy': 0.3560517970401692, 'C4.5 Avg Height': 14.0, 'Random Avg Accuracy': 0.31917283298097254, 'Random Avg Height': 14.5}\n",
      "\n",
      "\n",
      "8\n",
      "SPECT.test.txt\n",
      "(187, 23)\n",
      "\n",
      "{'name': 'SPECT.test.txt', 'num_instances': 187, 'num_attributes': 23, 'num_classes': 46, 'C4.5 Avg Accuracy': 0.8761695906432747, 'C4.5 Avg Height': 11.6, 'Random Avg Accuracy': 0.8878362573099416, 'Random Avg Height': 14.9}\n",
      "\n",
      "\n",
      "9\n",
      "adult+stretch.data.txt\n",
      "(20, 5)\n",
      "\n",
      "{'name': 'adult+stretch.data.txt', 'num_instances': 20, 'num_attributes': 5, 'num_classes': 10, 'C4.5 Avg Accuracy': 0.5, 'C4.5 Avg Height': 4.2, 'Random Avg Accuracy': 0.5, 'Random Avg Height': 4.8}\n",
      "\n",
      "\n",
      "10\n",
      "balance-scale.data.txt\n",
      "(625, 5)\n",
      "\n",
      "{'name': 'balance-scale.data.txt', 'num_instances': 625, 'num_attributes': 5, 'num_classes': 23, 'C4.5 Avg Accuracy': 0.6666796773354152, 'C4.5 Avg Height': 12.6, 'Random Avg Accuracy': 0.6164819151704399, 'Random Avg Height': 14.5}\n",
      "\n"
     ]
    }
   ],
   "source": [
    "# Use a table to present your experiment results. The table should include the following\n",
    "# dataset name, number of instances, number of attributes, number of classes, avg height, avg acc, rand hei, rand acc\n",
    "\n",
    "data_dict_list = []\n",
    "for dataset in datasets: # datasets[7:-1]:\n",
    "    get_info_for_data(dataset, data_dict_list, 10)"
   ]
  },
  {
   "cell_type": "code",
   "execution_count": 7,
   "metadata": {},
   "outputs": [
    {
     "data": {
      "text/html": [
       "<div>\n",
       "<style scoped>\n",
       "    .dataframe tbody tr th:only-of-type {\n",
       "        vertical-align: middle;\n",
       "    }\n",
       "\n",
       "    .dataframe tbody tr th {\n",
       "        vertical-align: top;\n",
       "    }\n",
       "\n",
       "    .dataframe thead th {\n",
       "        text-align: right;\n",
       "    }\n",
       "</style>\n",
       "<table border=\"1\" class=\"dataframe\">\n",
       "  <thead>\n",
       "    <tr style=\"text-align: right;\">\n",
       "      <th></th>\n",
       "      <th>num_instances</th>\n",
       "      <th>num_attributes</th>\n",
       "      <th>num_classes</th>\n",
       "      <th>C4.5 Avg Accuracy</th>\n",
       "      <th>C4.5 Avg Height</th>\n",
       "      <th>Random Avg Accuracy</th>\n",
       "      <th>Random Avg Height</th>\n",
       "    </tr>\n",
       "  </thead>\n",
       "  <tbody>\n",
       "    <tr>\n",
       "      <th>num_instances</th>\n",
       "      <td>1.000000</td>\n",
       "      <td>0.190845</td>\n",
       "      <td>0.393868</td>\n",
       "      <td>0.206282</td>\n",
       "      <td>0.484793</td>\n",
       "      <td>0.211138</td>\n",
       "      <td>0.609317</td>\n",
       "    </tr>\n",
       "    <tr>\n",
       "      <th>num_attributes</th>\n",
       "      <td>0.190845</td>\n",
       "      <td>1.000000</td>\n",
       "      <td>0.821264</td>\n",
       "      <td>0.812544</td>\n",
       "      <td>0.127505</td>\n",
       "      <td>0.810171</td>\n",
       "      <td>0.605260</td>\n",
       "    </tr>\n",
       "    <tr>\n",
       "      <th>num_classes</th>\n",
       "      <td>0.393868</td>\n",
       "      <td>0.821264</td>\n",
       "      <td>1.000000</td>\n",
       "      <td>0.708877</td>\n",
       "      <td>-0.025014</td>\n",
       "      <td>0.707456</td>\n",
       "      <td>0.586990</td>\n",
       "    </tr>\n",
       "    <tr>\n",
       "      <th>C4.5 Avg Accuracy</th>\n",
       "      <td>0.206282</td>\n",
       "      <td>0.812544</td>\n",
       "      <td>0.708877</td>\n",
       "      <td>1.000000</td>\n",
       "      <td>0.048677</td>\n",
       "      <td>0.984489</td>\n",
       "      <td>0.570920</td>\n",
       "    </tr>\n",
       "    <tr>\n",
       "      <th>C4.5 Avg Height</th>\n",
       "      <td>0.484793</td>\n",
       "      <td>0.127505</td>\n",
       "      <td>-0.025014</td>\n",
       "      <td>0.048677</td>\n",
       "      <td>1.000000</td>\n",
       "      <td>0.012857</td>\n",
       "      <td>0.770623</td>\n",
       "    </tr>\n",
       "    <tr>\n",
       "      <th>Random Avg Accuracy</th>\n",
       "      <td>0.211138</td>\n",
       "      <td>0.810171</td>\n",
       "      <td>0.707456</td>\n",
       "      <td>0.984489</td>\n",
       "      <td>0.012857</td>\n",
       "      <td>1.000000</td>\n",
       "      <td>0.532796</td>\n",
       "    </tr>\n",
       "    <tr>\n",
       "      <th>Random Avg Height</th>\n",
       "      <td>0.609317</td>\n",
       "      <td>0.605260</td>\n",
       "      <td>0.586990</td>\n",
       "      <td>0.570920</td>\n",
       "      <td>0.770623</td>\n",
       "      <td>0.532796</td>\n",
       "      <td>1.000000</td>\n",
       "    </tr>\n",
       "  </tbody>\n",
       "</table>\n",
       "</div>"
      ],
      "text/plain": [
       "                     num_instances  num_attributes  num_classes  \\\n",
       "num_instances             1.000000        0.190845     0.393868   \n",
       "num_attributes            0.190845        1.000000     0.821264   \n",
       "num_classes               0.393868        0.821264     1.000000   \n",
       "C4.5 Avg Accuracy         0.206282        0.812544     0.708877   \n",
       "C4.5 Avg Height           0.484793        0.127505    -0.025014   \n",
       "Random Avg Accuracy       0.211138        0.810171     0.707456   \n",
       "Random Avg Height         0.609317        0.605260     0.586990   \n",
       "\n",
       "                     C4.5 Avg Accuracy  C4.5 Avg Height  Random Avg Accuracy  \\\n",
       "num_instances                 0.206282         0.484793             0.211138   \n",
       "num_attributes                0.812544         0.127505             0.810171   \n",
       "num_classes                   0.708877        -0.025014             0.707456   \n",
       "C4.5 Avg Accuracy             1.000000         0.048677             0.984489   \n",
       "C4.5 Avg Height               0.048677         1.000000             0.012857   \n",
       "Random Avg Accuracy           0.984489         0.012857             1.000000   \n",
       "Random Avg Height             0.570920         0.770623             0.532796   \n",
       "\n",
       "                     Random Avg Height  \n",
       "num_instances                 0.609317  \n",
       "num_attributes                0.605260  \n",
       "num_classes                   0.586990  \n",
       "C4.5 Avg Accuracy             0.570920  \n",
       "C4.5 Avg Height               0.770623  \n",
       "Random Avg Accuracy           0.532796  \n",
       "Random Avg Height             1.000000  "
      ]
     },
     "execution_count": 7,
     "metadata": {},
     "output_type": "execute_result"
    }
   ],
   "source": [
    "# Use a table to present your experiment results. The table should include the following\n",
    "df = pd.DataFrame(data_dict_list)\n",
    "df = df[['name', 'num_instances', 'num_attributes', 'num_classes', 'C4.5 Avg Accuracy', 'C4.5 Avg Height', 'Random Avg Accuracy', 'Random Avg Height']]\n",
    "df.corr()"
   ]
  },
  {
   "cell_type": "markdown",
   "metadata": {},
   "source": [
    "### Sources\n",
    "\n",
    "http://www.cs.uvm.edu/~icdm/algorithms/10Algorithms-08.pdf\n",
    "\n",
    "\"CART uses the Gini diversity index to rank tests, whereas C4.5 uses information-based\n",
    "criteria\"\n",
    "\n",
    "https://scikit-learn.org/stable/modules/tree.html#tree-algorithms-id3-c4-5-c5-0-and-cart\n",
    "\n",
    "\"CART (Classification and Regression Trees) is very similar to C4.5, but it differs in that it supports numerical target variables (regression) and does not compute rule sets. \"\n",
    "scikit-learn uses an optimised version of the CART algorithm"
   ]
  },
  {
   "cell_type": "code",
   "execution_count": 8,
   "metadata": {},
   "outputs": [
    {
     "data": {
      "text/plain": [
       "<matplotlib.axes._subplots.AxesSubplot at 0x1a15a846a0>"
      ]
     },
     "execution_count": 8,
     "metadata": {},
     "output_type": "execute_result"
    },
    {
     "data": {
      "image/png": "[encoded data removed]",
      "text/plain": [
       "<Figure size 432x288 with 1 Axes>"
      ]
     },
     "metadata": {
      "needs_background": "light"
     },
     "output_type": "display_data"
    }
   ],
   "source": [
    "df[['C4.5 Avg Accuracy', 'Random Avg Accuracy']].plot()"
   ]
  },
  {
   "cell_type": "code",
   "execution_count": 9,
   "metadata": {},
   "outputs": [
    {
     "data": {
      "text/plain": [
       "<matplotlib.axes._subplots.AxesSubplot at 0x1a17415080>"
      ]
     },
     "execution_count": 9,
     "metadata": {},
     "output_type": "execute_result"
    },
    {
     "data": {
      "image/png": "[encoded data removed]",
      "text/plain": [
       "<Figure size 432x288 with 1 Axes>"
      ]
     },
     "metadata": {
      "needs_background": "light"
     },
     "output_type": "display_data"
    }
   ],
   "source": [
    "df[['C4.5 Avg Height', 'Random Avg Height']].plot()"
   ]
  },
  {
   "cell_type": "code",
   "execution_count": null,
   "metadata": {},
   "outputs": [],
   "source": []
  }
 ],
 "metadata": {
  "kernelspec": {
   "display_name": "dm (data mining)",
   "language": "python",
   "name": "dm"
  }
 },
 "nbformat": 4,
 "nbformat_minor": 2
}
