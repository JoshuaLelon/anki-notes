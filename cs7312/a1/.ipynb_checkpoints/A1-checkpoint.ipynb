{
 "cells": [
  {
   "cell_type": "code",
   "execution_count": 13,
   "metadata": {},
   "outputs": [],
   "source": [
    "import pandas as pd\n",
    "import numpy as np\n",
    "import sklearn as sk\n",
    "import matplotlib.pyplot as plt\n",
    "from os import listdir\n",
    "from os.path import isfile, join\n",
    "from sklearn.model_selection import StratifiedKFold\n",
    "from sklearn.metrics import classification_report, confusion_matrix, accuracy_score\n",
    "from sklearn.tree import DecisionTreeClassifier, ExtraTreeClassifier\n",
    "\n",
    "%matplotlib inline"
   ]
  },
  {
   "cell_type": "code",
   "execution_count": 117,
   "metadata": {},
   "outputs": [
    {
     "data": {
      "text/plain": [
       "['agaricus-lepiota.data.txt',\n",
       " 'primary-tumor.data.txt',\n",
       " 'hayes-roth.data.txt',\n",
       " 'monks-2.test.txt',\n",
       " 'nursery.data.txt',\n",
       " 'lymphography.data.txt',\n",
       " 'soybean-large.data.txt',\n",
       " 'car.data.txt',\n",
       " 'SPECT.test.txt',\n",
       " 'adult+stretch.data.txt',\n",
       " 'balance-scale.data.txt']"
      ]
     },
     "execution_count": 117,
     "metadata": {},
     "output_type": "execute_result"
    }
   ],
   "source": [
    "DATASET_PATH = \"datasets/\"\n",
    "datasets = [f for f in listdir(DATASET_PATH) if isfile(join(DATASET_PATH, f)) and f != '.DS_Store']\n",
    "datasets"
   ]
  },
  {
   "cell_type": "code",
   "execution_count": 86,
   "metadata": {},
   "outputs": [
    {
     "data": {
      "text/plain": [
       "[]"
      ]
     },
     "execution_count": 86,
     "metadata": {},
     "output_type": "execute_result"
    }
   ],
   "source": [
    "DATASET_PATH2 = \"nonworking/\"\n",
    "datasets = [f for f in listdir(DATASET_PATH2) if isfile(join(DATASET_PATH2, f)) and f != '.DS_Store']\n",
    "datasets"
   ]
  },
  {
   "cell_type": "code",
   "execution_count": 91,
   "metadata": {},
   "outputs": [],
   "source": [
    "dataset = 'tic-tac-toe.data.txt'\n",
    "# data = pd.read_csv(DATASET_PATH + dataset, header = None)\n",
    "# data = data.replace('?', np.NaN)\n",
    "# data = data.dropna(axis=1)\n",
    "# data = data.drop([0], axis=0)\n",
    "# data.to_csv(dataset, index=False)\n",
    "# data\n"
   ]
  },
  {
   "cell_type": "code",
   "execution_count": 123,
   "metadata": {},
   "outputs": [],
   "source": [
    "def get_info_for_data(dataset_name, data_dict_list, n_splits=10):\n",
    "    data_dict = {}\n",
    "    \n",
    "    data = pd.read_csv(DATASET_PATH + dataset_name, header = None)\n",
    "    data = data.replace('?', np.NaN)\n",
    "    data = data.dropna(axis=1)\n",
    "    data = data.apply(lambda x: pd.factorize(x)[0])\n",
    "\n",
    "    data_dict = {\"name\": dataset_name, \"num_instances\": data.shape[0], \"num_attributes\": data.shape[1], \"num_classes\": sum(data.nunique())}\n",
    "    \n",
    "    print()\n",
    "    print(len(data_dict_list))\n",
    "    print(dataset_name)\n",
    "    print(data.shape)\n",
    "    print()\n",
    "    # print(data.head())\n",
    "    # print()\n",
    "\n",
    "    # number of attributes, Random average height, and Random average accuracy\n",
    "    \n",
    "    y_col = 0\n",
    "    X = data.drop(y_col, 1)\n",
    "    y = data[y_col]\n",
    "    skf = StratifiedKFold(n_splits=n_splits)\n",
    "    accuracies = []\n",
    "    tree_depths = []\n",
    "    accuracies2 = []\n",
    "    tree_depths2 = []\n",
    "    data_split = skf.split(X, y)\n",
    "    # try:\n",
    "    for train, test in data_split:\n",
    "\n",
    "        # C4.5 Tree:\n",
    "        model = DecisionTreeClassifier(criterion='entropy')\n",
    "        model.fit(X.loc[train] , y.loc[train])\n",
    "        y_predict = model.predict(X.loc[test])\n",
    "        accuracy = accuracy_score(y.loc[test], y_predict)\n",
    "        accuracies.append(accuracy)\n",
    "        tree_depth = dectree_max_depth(model.tree_)\n",
    "        tree_depths.append(tree_depth)\n",
    "\n",
    "        # Random Tree:\n",
    "        model2 = ExtraTreeClassifier(criterion='entropy', max_features=1)\n",
    "        model2.fit(X.loc[train] , y.loc[train])\n",
    "        y_predict = model2.predict(X.loc[test])\n",
    "        accuracy = accuracy_score(y.loc[test], y_predict)\n",
    "        accuracies2.append(accuracy)\n",
    "        tree_depth = dectree_max_depth(model2.tree_)\n",
    "        tree_depths2.append(tree_depth)\n",
    "    data_dict[\"C4.5 Avg Accuracy\"] = sum(accuracies) / len(accuracies)\n",
    "    data_dict[\"C4.5 Avg Height\"] = sum(tree_depths) / len(tree_depths)\n",
    "    data_dict[\"Random Avg Accuracy\"] = sum(accuracies2) / len(accuracies2)\n",
    "    data_dict[\"Random Avg Height\"] = sum(tree_depths2) / len(tree_depths2)\n",
    "    data_dict_list.append(data_dict)\n",
    "    print(data_dict)\n",
    "    print()\n",
    "    # except:\n",
    "    #    print(\"Exception!\")\n",
    "    "
   ]
  },
  {
   "cell_type": "code",
   "execution_count": 58,
   "metadata": {},
   "outputs": [],
   "source": [
    "def dectree_max_depth(tree):\n",
    "    n_nodes = tree.node_count\n",
    "    children_left = tree.children_left\n",
    "    children_right = tree.children_right\n",
    "\n",
    "    def walk(node_id):\n",
    "        if (children_left[node_id] != children_right[node_id]):\n",
    "            left_max = 1 + walk(children_left[node_id])\n",
    "            right_max = 1 + walk(children_right[node_id])\n",
    "            return max(left_max, right_max)\n",
    "        else: # leaf\n",
    "            return 1\n",
    "\n",
    "    root_node_id = 0\n",
    "    return walk(root_node_id)\n",
    "# Use: t.tree_\n",
    "# From: https://stackoverflow.com/questions/26602369/how-to-find-out-the-size-of-a-sklearn-decision-tree-in-python"
   ]
  },
  {
   "cell_type": "code",
   "execution_count": 124,
   "metadata": {},
   "outputs": [
    {
     "name": "stdout",
     "output_type": "stream",
     "text": [
      "\n",
      "0\n",
      "agaricus-lepiota.data.txt\n",
      "(8124, 22)\n",
      "\n",
      "{'name': 'agaricus-lepiota.data.txt', 'num_instances': 8124, 'num_attributes': 22, 'num_classes': 114, 'C4.5 Avg Accuracy': 0.9685116851168513, 'C4.5 Avg Height': 7.7, 'Random Avg Accuracy': 0.9656790168394902, 'Random Avg Height': 17.8}\n",
      "\n",
      "\n",
      "1\n",
      "primary-tumor.data.txt\n",
      "(339, 13)\n",
      "\n",
      "{'name': 'primary-tumor.data.txt', 'num_instances': 339, 'num_attributes': 13, 'num_classes': 46, 'C4.5 Avg Accuracy': 0.3119277469612559, 'C4.5 Avg Height': 12.2, 'Random Avg Accuracy': 0.29826438008010314, 'Random Avg Height': 13.6}\n",
      "\n"
     ]
    },
    {
     "name": "stderr",
     "output_type": "stream",
     "text": [
      "/Users/jm/anaconda3/envs/dm/lib/python3.7/site-packages/sklearn/model_selection/_split.py:652: Warning: The least populated class in y has only 1 members, which is too few. The minimum number of members in any class cannot be less than n_splits=10.\n",
      "  % (min_groups, self.n_splits)), Warning)\n"
     ]
    },
    {
     "name": "stdout",
     "output_type": "stream",
     "text": [
      "\n",
      "2\n",
      "hayes-roth.data.txt\n",
      "(133, 5)\n",
      "\n",
      "{'name': 'hayes-roth.data.txt', 'num_instances': 133, 'num_attributes': 5, 'num_classes': 19, 'C4.5 Avg Accuracy': 0.1930769230769231, 'C4.5 Avg Height': 10.5, 'Random Avg Accuracy': 0.21371794871794875, 'Random Avg Height': 10.1}\n",
      "\n",
      "\n",
      "3\n",
      "monks-2.test.txt\n",
      "(433, 7)\n",
      "\n",
      "{'name': 'monks-2.test.txt', 'num_instances': 433, 'num_attributes': 7, 'num_classes': 23, 'C4.5 Avg Accuracy': 0.40576109936575044, 'C4.5 Avg Height': 10.5, 'Random Avg Accuracy': 0.3596194503171247, 'Random Avg Height': 12.4}\n",
      "\n",
      "\n",
      "4\n",
      "nursery.data.txt\n",
      "(12960, 9)\n",
      "\n",
      "{'name': 'nursery.data.txt', 'num_instances': 12960, 'num_attributes': 9, 'num_classes': 32, 'C4.5 Avg Accuracy': 0.4398148148148147, 'C4.5 Avg Height': 18.3, 'Random Avg Accuracy': 0.39861111111111114, 'Random Avg Height': 18.7}\n",
      "\n",
      "\n",
      "5\n",
      "lymphography.data.txt\n",
      "(148, 19)\n",
      "\n",
      "{'name': 'lymphography.data.txt', 'num_instances': 148, 'num_attributes': 19, 'num_classes': 63, 'C4.5 Avg Accuracy': 0.7855158730158731, 'C4.5 Avg Height': 8.9, 'Random Avg Accuracy': 0.6533928571428571, 'Random Avg Height': 13.9}\n",
      "\n",
      "\n",
      "6\n",
      "soybean-large.data.txt\n",
      "(307, 2)\n",
      "\n",
      "{'name': 'soybean-large.data.txt', 'num_instances': 307, 'num_attributes': 2, 'num_classes': 21, 'C4.5 Avg Accuracy': 0.1632500969090235, 'C4.5 Avg Height': 2.0, 'Random Avg Accuracy': 0.1632500969090235, 'Random Avg Height': 2.0}\n",
      "\n",
      "\n",
      "7\n",
      "car.data.txt\n",
      "(1728, 7)\n",
      "\n"
     ]
    },
    {
     "name": "stderr",
     "output_type": "stream",
     "text": [
      "/Users/jm/anaconda3/envs/dm/lib/python3.7/site-packages/sklearn/model_selection/_split.py:652: Warning: The least populated class in y has only 2 members, which is too few. The minimum number of members in any class cannot be less than n_splits=10.\n",
      "  % (min_groups, self.n_splits)), Warning)\n",
      "/Users/jm/anaconda3/envs/dm/lib/python3.7/site-packages/sklearn/model_selection/_split.py:652: Warning: The least populated class in y has only 1 members, which is too few. The minimum number of members in any class cannot be less than n_splits=10.\n",
      "  % (min_groups, self.n_splits)), Warning)\n"
     ]
    },
    {
     "name": "stdout",
     "output_type": "stream",
     "text": [
      "{'name': 'car.data.txt', 'num_instances': 1728, 'num_attributes': 7, 'num_classes': 25, 'C4.5 Avg Accuracy': 0.3560517970401692, 'C4.5 Avg Height': 14.0, 'Random Avg Accuracy': 0.3219873150105708, 'Random Avg Height': 14.6}\n",
      "\n",
      "\n",
      "8\n",
      "SPECT.test.txt\n",
      "(187, 23)\n",
      "\n",
      "{'name': 'SPECT.test.txt', 'num_instances': 187, 'num_attributes': 23, 'num_classes': 46, 'C4.5 Avg Accuracy': 0.8867251461988304, 'C4.5 Avg Height': 11.5, 'Random Avg Accuracy': 0.8931286549707604, 'Random Avg Height': 14.4}\n",
      "\n",
      "\n",
      "9\n",
      "adult+stretch.data.txt\n",
      "(20, 5)\n",
      "\n",
      "{'name': 'adult+stretch.data.txt', 'num_instances': 20, 'num_attributes': 5, 'num_classes': 10, 'C4.5 Avg Accuracy': 0.5, 'C4.5 Avg Height': 4.3, 'Random Avg Accuracy': 0.5, 'Random Avg Height': 4.3}\n",
      "\n",
      "\n",
      "10\n",
      "balance-scale.data.txt\n",
      "(625, 5)\n",
      "\n",
      "{'name': 'balance-scale.data.txt', 'num_instances': 625, 'num_attributes': 5, 'num_classes': 23, 'C4.5 Avg Accuracy': 0.67144158209732, 'C4.5 Avg Height': 12.6, 'Random Avg Accuracy': 0.6784309133489461, 'Random Avg Height': 14.5}\n",
      "\n"
     ]
    }
   ],
   "source": [
    "# Use a table to present your experiment results. The table should include the following\n",
    "# dataset name, number of instances, number of attributes, number of classes, avg height, avg acc, rand hei, rand acc\n",
    "\n",
    "data_dict_list = []\n",
    "for dataset in datasets: # datasets[7:-1]:\n",
    "    get_info_for_data(dataset, data_dict_list, 10)"
   ]
  },
  {
   "cell_type": "code",
   "execution_count": 127,
   "metadata": {},
   "outputs": [
    {
     "data": {
      "text/html": [
       "<div>\n",
       "<style scoped>\n",
       "    .dataframe tbody tr th:only-of-type {\n",
       "        vertical-align: middle;\n",
       "    }\n",
       "\n",
       "    .dataframe tbody tr th {\n",
       "        vertical-align: top;\n",
       "    }\n",
       "\n",
       "    .dataframe thead th {\n",
       "        text-align: right;\n",
       "    }\n",
       "</style>\n",
       "<table border=\"1\" class=\"dataframe\">\n",
       "  <thead>\n",
       "    <tr style=\"text-align: right;\">\n",
       "      <th></th>\n",
       "      <th>name</th>\n",
       "      <th>num_instances</th>\n",
       "      <th>num_attributes</th>\n",
       "      <th>num_classes</th>\n",
       "      <th>C4.5 Avg Accuracy</th>\n",
       "      <th>C4.5 Avg Height</th>\n",
       "      <th>Random Avg Accuracy</th>\n",
       "      <th>Random Avg Height</th>\n",
       "    </tr>\n",
       "  </thead>\n",
       "  <tbody>\n",
       "    <tr>\n",
       "      <th>0</th>\n",
       "      <td>agaricus-lepiota.data.txt</td>\n",
       "      <td>8124</td>\n",
       "      <td>22</td>\n",
       "      <td>114</td>\n",
       "      <td>0.968512</td>\n",
       "      <td>7.7</td>\n",
       "      <td>0.965679</td>\n",
       "      <td>17.8</td>\n",
       "    </tr>\n",
       "    <tr>\n",
       "      <th>1</th>\n",
       "      <td>primary-tumor.data.txt</td>\n",
       "      <td>339</td>\n",
       "      <td>13</td>\n",
       "      <td>46</td>\n",
       "      <td>0.311928</td>\n",
       "      <td>12.2</td>\n",
       "      <td>0.298264</td>\n",
       "      <td>13.6</td>\n",
       "    </tr>\n",
       "    <tr>\n",
       "      <th>2</th>\n",
       "      <td>hayes-roth.data.txt</td>\n",
       "      <td>133</td>\n",
       "      <td>5</td>\n",
       "      <td>19</td>\n",
       "      <td>0.193077</td>\n",
       "      <td>10.5</td>\n",
       "      <td>0.213718</td>\n",
       "      <td>10.1</td>\n",
       "    </tr>\n",
       "    <tr>\n",
       "      <th>3</th>\n",
       "      <td>monks-2.test.txt</td>\n",
       "      <td>433</td>\n",
       "      <td>7</td>\n",
       "      <td>23</td>\n",
       "      <td>0.405761</td>\n",
       "      <td>10.5</td>\n",
       "      <td>0.359619</td>\n",
       "      <td>12.4</td>\n",
       "    </tr>\n",
       "    <tr>\n",
       "      <th>4</th>\n",
       "      <td>nursery.data.txt</td>\n",
       "      <td>12960</td>\n",
       "      <td>9</td>\n",
       "      <td>32</td>\n",
       "      <td>0.439815</td>\n",
       "      <td>18.3</td>\n",
       "      <td>0.398611</td>\n",
       "      <td>18.7</td>\n",
       "    </tr>\n",
       "    <tr>\n",
       "      <th>5</th>\n",
       "      <td>lymphography.data.txt</td>\n",
       "      <td>148</td>\n",
       "      <td>19</td>\n",
       "      <td>63</td>\n",
       "      <td>0.785516</td>\n",
       "      <td>8.9</td>\n",
       "      <td>0.653393</td>\n",
       "      <td>13.9</td>\n",
       "    </tr>\n",
       "    <tr>\n",
       "      <th>6</th>\n",
       "      <td>soybean-large.data.txt</td>\n",
       "      <td>307</td>\n",
       "      <td>2</td>\n",
       "      <td>21</td>\n",
       "      <td>0.163250</td>\n",
       "      <td>2.0</td>\n",
       "      <td>0.163250</td>\n",
       "      <td>2.0</td>\n",
       "    </tr>\n",
       "    <tr>\n",
       "      <th>7</th>\n",
       "      <td>car.data.txt</td>\n",
       "      <td>1728</td>\n",
       "      <td>7</td>\n",
       "      <td>25</td>\n",
       "      <td>0.356052</td>\n",
       "      <td>14.0</td>\n",
       "      <td>0.321987</td>\n",
       "      <td>14.6</td>\n",
       "    </tr>\n",
       "    <tr>\n",
       "      <th>8</th>\n",
       "      <td>SPECT.test.txt</td>\n",
       "      <td>187</td>\n",
       "      <td>23</td>\n",
       "      <td>46</td>\n",
       "      <td>0.886725</td>\n",
       "      <td>11.5</td>\n",
       "      <td>0.893129</td>\n",
       "      <td>14.4</td>\n",
       "    </tr>\n",
       "    <tr>\n",
       "      <th>9</th>\n",
       "      <td>adult+stretch.data.txt</td>\n",
       "      <td>20</td>\n",
       "      <td>5</td>\n",
       "      <td>10</td>\n",
       "      <td>0.500000</td>\n",
       "      <td>4.3</td>\n",
       "      <td>0.500000</td>\n",
       "      <td>4.3</td>\n",
       "    </tr>\n",
       "    <tr>\n",
       "      <th>10</th>\n",
       "      <td>balance-scale.data.txt</td>\n",
       "      <td>625</td>\n",
       "      <td>5</td>\n",
       "      <td>23</td>\n",
       "      <td>0.671442</td>\n",
       "      <td>12.6</td>\n",
       "      <td>0.678431</td>\n",
       "      <td>14.5</td>\n",
       "    </tr>\n",
       "  </tbody>\n",
       "</table>\n",
       "</div>"
      ],
      "text/plain": [
       "                         name  num_instances  num_attributes  num_classes  \\\n",
       "0   agaricus-lepiota.data.txt           8124              22          114   \n",
       "1      primary-tumor.data.txt            339              13           46   \n",
       "2         hayes-roth.data.txt            133               5           19   \n",
       "3            monks-2.test.txt            433               7           23   \n",
       "4            nursery.data.txt          12960               9           32   \n",
       "5       lymphography.data.txt            148              19           63   \n",
       "6      soybean-large.data.txt            307               2           21   \n",
       "7                car.data.txt           1728               7           25   \n",
       "8              SPECT.test.txt            187              23           46   \n",
       "9      adult+stretch.data.txt             20               5           10   \n",
       "10     balance-scale.data.txt            625               5           23   \n",
       "\n",
       "    C4.5 Avg Accuracy  C4.5 Avg Height  Random Avg Accuracy  Random Avg Height  \n",
       "0            0.968512              7.7             0.965679               17.8  \n",
       "1            0.311928             12.2             0.298264               13.6  \n",
       "2            0.193077             10.5             0.213718               10.1  \n",
       "3            0.405761             10.5             0.359619               12.4  \n",
       "4            0.439815             18.3             0.398611               18.7  \n",
       "5            0.785516              8.9             0.653393               13.9  \n",
       "6            0.163250              2.0             0.163250                2.0  \n",
       "7            0.356052             14.0             0.321987               14.6  \n",
       "8            0.886725             11.5             0.893129               14.4  \n",
       "9            0.500000              4.3             0.500000                4.3  \n",
       "10           0.671442             12.6             0.678431               14.5  "
      ]
     },
     "execution_count": 127,
     "metadata": {},
     "output_type": "execute_result"
    }
   ],
   "source": [
    "# Use a table to present your experiment results. The table should include the following\n",
    "df = pd.DataFrame(data_dict_list)\n",
    "df = df[['name', 'num_instances', 'num_attributes', 'num_classes', 'C4.5 Avg Accuracy', 'C4.5 Avg Height', 'Random Avg Accuracy', 'Random Avg Height']]\n",
    "df"
   ]
  },
  {
   "cell_type": "markdown",
   "metadata": {},
   "source": [
    "### Sources\n",
    "\n",
    "http://www.cs.uvm.edu/~icdm/algorithms/10Algorithms-08.pdf\n",
    "\n",
    "\"CART uses the Gini diversity index to rank tests, whereas C4.5 uses information-based\n",
    "criteria\"\n",
    "\n",
    "https://scikit-learn.org/stable/modules/tree.html#tree-algorithms-id3-c4-5-c5-0-and-cart\n",
    "\n",
    "\"CART (Classification and Regression Trees) is very similar to C4.5, but it differs in that it supports numerical target variables (regression) and does not compute rule sets. \"\n",
    "scikit-learn uses an optimised version of the CART algorithm"
   ]
  },
  {
   "cell_type": "code",
   "execution_count": 130,
   "metadata": {},
   "outputs": [
    {
     "data": {
      "text/plain": [
       "<matplotlib.axes._subplots.AxesSubplot at 0x1a22353ac8>"
      ]
     },
     "execution_count": 130,
     "metadata": {},
     "output_type": "execute_result"
    },
    {
     "data": {
      "image/png": "[encoded data removed]",
      "text/plain": [
       "<Figure size 432x288 with 1 Axes>"
      ]
     },
     "metadata": {
      "needs_background": "light"
     },
     "output_type": "display_data"
    }
   ],
   "source": [
    "df[['C4.5 Avg Accuracy', 'Random Avg Accuracy']].plot()"
   ]
  },
  {
   "cell_type": "code",
   "execution_count": 131,
   "metadata": {},
   "outputs": [
    {
     "data": {
      "text/plain": [
       "<matplotlib.axes._subplots.AxesSubplot at 0x10cc32128>"
      ]
     },
     "execution_count": 131,
     "metadata": {},
     "output_type": "execute_result"
    },
    {
     "data": {
      "image/png": "[encoded data removed]",
      "text/plain": [
       "<Figure size 432x288 with 1 Axes>"
      ]
     },
     "metadata": {
      "needs_background": "light"
     },
     "output_type": "display_data"
    }
   ],
   "source": [
    "df[['C4.5 Avg Height', 'Random Avg Height']].plot()"
   ]
  },
  {
   "cell_type": "code",
   "execution_count": null,
   "metadata": {},
   "outputs": [],
   "source": []
  }
 ],
 "metadata": {
  "kernelspec": {
   "display_name": "dm (data mining)",
   "language": "python",
   "name": "dm"
  },
  "language_info": {
   "codemirror_mode": {
    "name": "ipython",
    "version": 3
   },
   "file_extension": ".py",
   "mimetype": "text/x-python",
   "name": "python",
   "nbconvert_exporter": "python",
   "pygments_lexer": "ipython3",
   "version": "3.7.2"
  }
 },
 "nbformat": 4,
 "nbformat_minor": 2
}
