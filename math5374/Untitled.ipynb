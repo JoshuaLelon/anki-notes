{
 "cells": [
  {
   "cell_type": "markdown",
   "metadata": {},
   "source": [
    "### MATLAB equivalent"
   ]
  },
  {
   "cell_type": "markdown",
   "metadata": {},
   "source": [
    "x = (-128:128)'; <-- gives you all the integers between -128 and 128.\n",
    "\n",
    "x = 100:-5:0; <--- start at 100, go down by 5, all the way to 0. Gives you a row vector. The tic (') gives you transpose.\n",
    "\n",
    "x = (-128:128)'/128; <-- divides all results by 128\n"
   ]
  },
  {
   "cell_type": "markdown",
   "metadata": {},
   "source": [
    "A = [x.^0 x.^1 x.^2 x.^3]; <-- the dot (.) means do it entry-wise"
   ]
  },
  {
   "cell_type": "markdown",
   "metadata": {},
   "source": [
    "[Q, R] = qr(A, O); <-- gives you the QR decomposition of A. What's O?"
   ]
  },
  {
   "cell_type": "markdown",
   "metadata": {},
   "source": [
    "scale = Q(267, :); <-- Get's you the 257th row.\n",
    "\n",
    "Q = Q * diag(1./scale); This will scale the Q's so they have a certain length. The diag puts those values on the diagonal matrix. The normalization was: P_j(1) = 1.\n",
    "\n",
    "plot(Q) <-- will give you the Legendre polynomials.\n",
    "\n",
    "plot(Q(:, 2)'*Q(:, 1)) <-- in theory, should be 0. However, there will be an error (eg 2e-16)\n"
   ]
  },
  {
   "cell_type": "code",
   "execution_count": null,
   "metadata": {},
   "outputs": [],
   "source": [
    "function [Q, R] = fancy_program(A) % should match name of file\n",
    "\n",
    "[m, n] = size(A);\n",
    "R = zeros(n);\n",
    "Q = zeros(m, n);\n",
    "\n",
    "A = rand(n);\n",
    "for j = 1:length(A) % n\n",
    "    V[:, j] = A(:, j)\n",
    "    for i = 1:j - 1\n",
    "        R(i, j) = Q(:, i)'*A(:, j)\n",
    "        V(:, j) = V(:, j) - Q(:, i).*R(i, j)\n",
    "    R(j, j) = norm(V[:, j], 2)\n",
    "    Q(:, j) = V(:, j) / R(j, j)\n",
    "    end\n",
    "end"
   ]
  },
  {
   "cell_type": "code",
   "execution_count": 18,
   "metadata": {},
   "outputs": [
    {
     "data": {
      "text/plain": [
       "[3, 0, 1, 2, 4, 5, 6, 7, 8, 0, 0, 0, 0, 0, 0, 0, 0, 0, 1, 2, 0, 9]"
      ]
     },
     "execution_count": 18,
     "metadata": {},
     "output_type": "execute_result"
    }
   ],
   "source": [
    "import numpy as np\n",
    "\n",
    "def order_components_descending(labels):\n",
    "    comp_labels, counts = np.unique(labels, return_counts=True)\n",
    "    dict_hist = dict(zip(comp_labels, counts))\n",
    "    sorted_keys_list = sorted(dict_hist, key=dict_hist.get, reverse=True)\n",
    "    labels = [sorted_keys_list.index(element) for element in labels]\n",
    "    return labels\n",
    "\n",
    "test = [0, 1, 1, 0, 1]\n",
    "test2 = [1, 2, 3, 4, 1, 2, 3, 4, 5, 4, 0]\n",
    "test3 = [0, 1, 2, 3, 4, 5, 6, 7, 8, 1, 1, 1, 1, 1, 1, 1, 1, 1, 2, 3, 1, 9]\n",
    "order_components_descending(test3)"
   ]
  },
  {
   "cell_type": "code",
   "execution_count": null,
   "metadata": {},
   "outputs": [],
   "source": []
  }
 ],
 "metadata": {
  "kernelspec": {
   "display_name": "dm (data mining)",
   "language": "python",
   "name": "dm"
  },
  "language_info": {
   "codemirror_mode": {
    "name": "ipython",
    "version": 3
   },
   "file_extension": ".py",
   "mimetype": "text/x-python",
   "name": "python",
   "nbconvert_exporter": "python",
   "pygments_lexer": "ipython3",
   "version": "3.7.2"
  }
 },
 "nbformat": 4,
 "nbformat_minor": 2
}
